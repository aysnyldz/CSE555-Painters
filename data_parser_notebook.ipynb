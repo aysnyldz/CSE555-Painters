{
 "cells": [
  {
   "cell_type": "code",
   "execution_count": 1,
   "metadata": {},
   "outputs": [],
   "source": [
    "import csv"
   ]
  },
  {
   "cell_type": "code",
   "execution_count": 4,
   "metadata": {},
   "outputs": [],
   "source": [
    "path =\"all/all_data_info.csv\"\n"
   ]
  },
  {
   "cell_type": "code",
   "execution_count": 5,
   "metadata": {},
   "outputs": [],
   "source": [
    "with open(path) as csvFile:\n",
    "    reader = csv.DictReader(csvFile)\n",
    "    for row in reader:\n",
    "        data = [r for r in reader]"
   ]
  },
  {
   "cell_type": "code",
   "execution_count": 14,
   "metadata": {},
   "outputs": [],
   "source": [
    "listArtistFile=[] #artist,new_filename\n",
    "artists =[] #artist list"
   ]
  },
  {
   "cell_type": "code",
   "execution_count": 15,
   "metadata": {},
   "outputs": [],
   "source": [
    "for i in data:\n",
    "    listTrain=(i['artist'], i['new_filename'])\n",
    "    listArtistFile.append(listTrain)\n",
    "    artists.append(i['artist'])\n",
    "\n",
    "artists = list(set(artists)) #artist unique list\n",
    "#print(len(artists))"
   ]
  },
  {
   "cell_type": "code",
   "execution_count": 16,
   "metadata": {},
   "outputs": [],
   "source": [
    "galeries=[]\n",
    "for k in range(len(artists)):\n",
    "    picturesName = []\n",
    "    c=0\n",
    "    for j in listArtistFile:\n",
    "        if(j.__getitem__(0)== artists[k]):\n",
    "            picturesName.append(j.__getitem__(1))\n",
    "            c+=1\n",
    "    if c==500 :\n",
    "        galerie=(artists[k],picturesName)\n",
    "        galeries.append(galerie)"
   ]
  },
  {
   "cell_type": "code",
   "execution_count": 17,
   "metadata": {},
   "outputs": [
    {
     "name": "stdout",
     "output_type": "stream",
     "text": [
      "12\n",
      "Pierre-Auguste Renoir ['85018.jpg', '3016.jpg', '3603.jpg', '69374.jpg', '82624.jpg', '25088.jpg', '51077.jpg', '17440.jpg', '98103.jpg', '32147.jpg', '52007.jpg', '81823.jpg', '47525.jpg', '89728.jpg', '49928.jpg', '1363.jpg', '57691.jpg', '5962.jpg', '13202.jpg', '93496.jpg', '28468.jpg', '63022.jpg', '23945.jpg', '18043.jpg', '84794.jpg', '21109.jpg', '3897.jpg', '8622.jpg', '91233.jpg', '28827.jpg', '40413.jpg', '27370.jpg', '63075.jpg', '16872.jpg', '7712.jpg', '67685.jpg', '89605.jpg', '80546.jpg', '47314.jpg', '66086.jpg', '41169.jpg', '98869.jpg', '15366.jpg', '39484.jpg', '10243.jpg', '4015.jpg', '101901.jpg', '33421.jpg', '54404.jpg', '98471.jpg', '35935.jpg', '18197.jpg', '22964.jpg', '71768.jpg', '63768.jpg', '87519.jpg', '98836.jpg', '50719.jpg', '10607.jpg', '92110.jpg', '65606.jpg', '80229.jpg', '96494.jpg', '13133.jpg', '34566.jpg', '21221.jpg', '53513.jpg', '22939.jpg', '27098.jpg', '18033.jpg', '22951.jpg', '94095.jpg', '23431.jpg', '56327.jpg', '58439.jpg', '28943.jpg', '94048.jpg', '88384.jpg', '72059.jpg', '37572.jpg', '94363.jpg', '36709.jpg', '18793.jpg', '81701.jpg', '79180.jpg', '22891.jpg', '10484.jpg', '29795.jpg', '83745.jpg', '95939.jpg', '39980.jpg', '93256.jpg', '32245.jpg', '66250.jpg', '50833.jpg', '89883.jpg', '55294.jpg', '73067.jpg', '23115.jpg', '6643.jpg', '91485.jpg', '26500.jpg', '103120.jpg', '21979.jpg', '45507.jpg', '42008.jpg', '84137.jpg', '99721.jpg', '46915.jpg', '73622.jpg', '13723.jpg', '2956.jpg', '97765.jpg', '10460.jpg', '43049.jpg', '87429.jpg', '51639.jpg', '47917.jpg', '81819.jpg', '25554.jpg', '79096.jpg', '7691.jpg', '85268.jpg', '65112.jpg', '36490.jpg', '71479.jpg', '32554.jpg', '7775.jpg', '64611.jpg', '79617.jpg', '77446.jpg', '99125.jpg', '44571.jpg', '76449.jpg', '6860.jpg', '26758.jpg', '69854.jpg', '79991.jpg', '3274.jpg', '31305.jpg', '59566.jpg', '57207.jpg', '24558.jpg', '64156.jpg', '78514.jpg', '30692.jpg', '4698.jpg', '12693.jpg', '84275.jpg', '23466.jpg', '101019.jpg', '34288.jpg', '46265.jpg', '77260.jpg', '41056.jpg', '79346.jpg', '94066.jpg', '3497.jpg', '61612.jpg', '80348.jpg', '27739.jpg', '30757.jpg', '68928.jpg', '27790.jpg', '93410.jpg', '24480.jpg', '96443.jpg', '12441.jpg', '87273.jpg', '64121.jpg', '45477.jpg', '15244.jpg', '37411.jpg', '24929.jpg', '50502.jpg', '9876.jpg', '24404.jpg', '37517.jpg', '4870.jpg', '52202.jpg', '101583.jpg', '2285.jpg', '11606.jpg', '86970.jpg', '28365.jpg', '91760.jpg', '10444.jpg', '61389.jpg', '19185.jpg', '59400.jpg', '101238.jpg', '56757.jpg', '100839.jpg', '17636.jpg', '83584.jpg', '38933.jpg', '31122.jpg', '9568.jpg', '79086.jpg', '32867.jpg', '98593.jpg', '25777.jpg', '23190.jpg', '57724.jpg', '42794.jpg', '21125.jpg', '82335.jpg', '97829.jpg', '69011.jpg', '65450.jpg', '53808.jpg', '95918.jpg', '85413.jpg', '61035.jpg', '82134.jpg', '68069.jpg', '101622.jpg', '58407.jpg', '47934.jpg', '95044.jpg', '66414.jpg', '5127.jpg', '69776.jpg', '70802.jpg', '94668.jpg', '77522.jpg', '76015.jpg', '38738.jpg', '53993.jpg', '9376.jpg', '79979.jpg', '22399.jpg', '57415.jpg', '74947.jpg', '33683.jpg', '34319.jpg', '97377.jpg', '33517.jpg', '95568.jpg', '6660.jpg', '11170.jpg', '62301.jpg', '68739.jpg', '35356.jpg', '78472.jpg', '11691.jpg', '79265.jpg', '92667.jpg', '100159.jpg', '72707.jpg', '38417.jpg', '37472.jpg', '23544.jpg', '93088.jpg', '5758.jpg', '16177.jpg', '10534.jpg', '96166.jpg', '35013.jpg', '64012.jpg', '3102.jpg', '29130.jpg', '47999.jpg', '18223.jpg', '49625.jpg', '14563.jpg', '99042.jpg', '68402.jpg', '86246.jpg', '81054.jpg', '55442.jpg', '42907.jpg', '1591.jpg', '100937.jpg', '95318.jpg', '33121.jpg', '84677.jpg', '9581.jpg', '26088.jpg', '46574.jpg', '82737.jpg', '102680.jpg', '20273.jpg', '47942.jpg', '47059.jpg', '66519.jpg', '81559.jpg', '37976.jpg', '27534.jpg', '34692.jpg', '90875.jpg', '101018.jpg', '99187.jpg', '5012.jpg', '34054.jpg', '101209.jpg', '57819.jpg', '29015.jpg', '10674.jpg', '13503.jpg', '15443.jpg', '48353.jpg', '63079.jpg', '38885.jpg', '13653.jpg', '61319.jpg', '102090.jpg', '35255.jpg', '52086.jpg', '44827.jpg', '30948.jpg', '96123.jpg', '4962.jpg', '28802.jpg', '43985.jpg', '85109.jpg', '97622.jpg', '29867.jpg', '13958.jpg', '30530.jpg', '16360.jpg', '74003.jpg', '64856.jpg', '27851.jpg', '35908.jpg', '26194.jpg', '31682.jpg', '75502.jpg', '31777.jpg', '90325.jpg', '5318.jpg', '29839.jpg', '87097.jpg', '64672.jpg', '6951.jpg', '3013.jpg', '2438.jpg', '11706.jpg', '65411.jpg', '15309.jpg', '34869.jpg', '90411.jpg', '82990.jpg', '96074.jpg', '72484.jpg', '21130.jpg', '43454.jpg', '9241.jpg', '83639.jpg', '71710.jpg', '55931.jpg', '98661.jpg', '77812.jpg', '34908.jpg', '53687.jpg', '65931.jpg', '1798.jpg', '94412.jpg', '87091.jpg', '89293.jpg', '49365.jpg', '21504.jpg', '37625.jpg', '11226.jpg', '73351.jpg', '40780.jpg', '65423.jpg', '22545.jpg', '37748.jpg', '21955.jpg', '101801.jpg', '1736.jpg', '100006.jpg', '101580.jpg', '101327.jpg', '65395.jpg', '4670.jpg', '99647.jpg', '15965.jpg', '80083.jpg', '50049.jpg', '62377.jpg', '26038.jpg', '8035.jpg', '7205.jpg', '82021.jpg', '21752.jpg', '96672.jpg', '43607.jpg', '12089.jpg', '12363.jpg', '65122.jpg', '2080.jpg', '49448.jpg', '93633.jpg', '11097.jpg', '78743.jpg', '59815.jpg', '58558.jpg', '41008.jpg', '52231.jpg', '49497.jpg', '29570.jpg', '54656.jpg', '24302.jpg', '69362.jpg', '31017.jpg', '38056.jpg', '60250.jpg', '61050.jpg', '48950.jpg', '63159.jpg', '75162.jpg', '15700.jpg', '91343.jpg', '83819.jpg', '84863.jpg', '92588.jpg', '29181.jpg', '70021.jpg', '88344.jpg', '46336.jpg', '87758.jpg', '33895.jpg', '57290.jpg', '27275.jpg', '43835.jpg', '53314.jpg', '88405.jpg', '75805.jpg', '88427.jpg', '79467.jpg', '22541.jpg', '88911.jpg', '25539.jpg', '88733.jpg', '59729.jpg', '11010.jpg', '101934.jpg', '13227.jpg', '80827.jpg', '98574.jpg', '1368.jpg', '48854.jpg', '85470.jpg', '72594.jpg', '25149.jpg', '92006.jpg', '2843.jpg', '32759.jpg', '38572.jpg', '26416.jpg', '60477.jpg', '63338.jpg', '15792.jpg', '53280.jpg', '102710.jpg', '92584.jpg', '90113.jpg', '66545.jpg', '17245.jpg', '2548.jpg', '28024.jpg', '52209.jpg', '33498.jpg', '60491.jpg', '1013.jpg', '53928.jpg', '20278.jpg', '68680.jpg', '6046.jpg', '32487.jpg', '3568.jpg', '87530.jpg', '80185.jpg', '86396.jpg', '53132.jpg', '102955.jpg', '39966.jpg', '92846.jpg', '86792.jpg', '35386.jpg', '53922.jpg', '61646.jpg', '37832.jpg', '101056.jpg', '45975.jpg', '43804.jpg', '70631.jpg', '66737.jpg', '87563.jpg', '53505.jpg', '82285.jpg', '23098.jpg', '81223.jpg', '80514.jpg', '99063.jpg', '53455.jpg', '76763.jpg', '73042.jpg']\n"
     ]
    }
   ],
   "source": [
    "print(len(galeries))\n",
    "\n",
    "print(galeries[0].__getitem__(0), galeries[0].__getitem__(1) )\n"
   ]
  },
  {
   "cell_type": "code",
   "execution_count": 18,
   "metadata": {},
   "outputs": [],
   "source": [
    "import glob"
   ]
  },
  {
   "cell_type": "code",
   "execution_count": 49,
   "metadata": {},
   "outputs": [],
   "source": [
    "import os\n",
    "import shutil\n",
    "\n",
    "\n",
    "\n",
    "train_root=\"all/train\"\n",
    "test_root=\"all/test\"\n",
    "\n",
    "#print(train_root+train_index)\n",
    "\n",
    "\n",
    "data_list = galeries[0].__getitem__(1)\n",
    "#for data in data_list:\n",
    "        #print(data)\n",
    "\n",
    "for x in range(0,len(galeries)):\n",
    "    directory = \"labels/\"+galeries[x].__getitem__(0)\n",
    "    if not os.path.exists(directory):\n",
    "        os.makedirs(directory)\n",
    "    data_list = galeries[x].__getitem__(1)\n",
    "    count = 0\n",
    "    for data in data_list:\n",
    "        #print(train_root)\n",
    "        #print(data)\n",
    "        #print(train_root+\"/\"+data)\n",
    "        path = glob.glob(train_root+\"/\"+data)\n",
    "        if not path:\n",
    "            path = glob.glob(test_root+\"/\"+data)\n",
    "        \n",
    "        #print(path[0])\n",
    "        #print(directory)\n",
    "        directory = \"labels/\"+galeries[x].__getitem__(0)\n",
    "        if count < 300:\n",
    "            directory+=\"_train\"\n",
    "            if not os.path.exists(directory):\n",
    "                os.makedirs(directory)\n",
    "        elif count>=300 and count<400:\n",
    "            directory+=\"_validation\"\n",
    "            if not os.path.exists(directory):\n",
    "                os.makedirs(directory)\n",
    "        else:\n",
    "            directory+=\"_test\"\n",
    "            if not os.path.exists(directory):\n",
    "                os.makedirs(directory)\n",
    "            \n",
    "        shutil.copy2(path[0],directory)\n",
    "        count+=1\n",
    "\n",
    "\n",
    "#print(list)"
   ]
  },
  {
   "cell_type": "code",
   "execution_count": 126,
   "metadata": {},
   "outputs": [
    {
     "name": "stdout",
     "output_type": "stream",
     "text": [
      "839\n",
      "1173\n",
      "678\n",
      "896\n",
      "839\n",
      "1173\n",
      "391\n",
      "1033\n",
      "839\n",
      "1173\n",
      "772\n",
      "568\n",
      "839\n",
      "1173\n",
      "179\n",
      "874\n",
      "839\n",
      "1173\n",
      "459\n",
      "602\n",
      "459 602\n",
      "(300, 300, 3)\n"
     ]
    },
    {
     "data": {
      "text/plain": [
       "-1"
      ]
     },
     "execution_count": 126,
     "metadata": {},
     "output_type": "execute_result"
    }
   ],
   "source": [
    "import cv2\n",
    "import random\n",
    "img = cv2.imread(\"labels/Pablo Picasso_train/91407.jpg\")\n",
    "\n",
    "width = len(img[0])\n",
    "height = len(img)\n",
    "\n",
    "croppy = 300\n",
    "\n",
    "def generateRandomPoints(width,height):\n",
    "    rand_x = random.randint(0,width)\n",
    "    rand_y = random.randint(0,height)\n",
    "    print(width)\n",
    "    print(height)\n",
    "    print(rand_x)\n",
    "    print(rand_y)\n",
    "    if (rand_x + croppy < width) and (rand_y + croppy < height):\n",
    "        return rand_x,rand_y\n",
    "    return generateRandomPoints(width,height)\n",
    "     \n",
    "        \n",
    "core_x,core_y = generateRandomPoints(width,height)\n",
    "\n",
    "print(core_x,core_y)\n",
    "crop_img = img[core_y:core_y+croppy, core_x:core_x+croppy]\n",
    "cv2.imshow(\"cropped\", crop_img)\n",
    "print(crop_img.shape)\n",
    "cv2.waitKey(0)"
   ]
  },
  {
   "cell_type": "code",
   "execution_count": null,
   "metadata": {},
   "outputs": [],
   "source": []
  },
  {
   "cell_type": "code",
   "execution_count": null,
   "metadata": {},
   "outputs": [],
   "source": []
  },
  {
   "cell_type": "code",
   "execution_count": null,
   "metadata": {},
   "outputs": [],
   "source": []
  }
 ],
 "metadata": {
  "kernelspec": {
   "display_name": "Python 3",
   "language": "python",
   "name": "python3"
  },
  "language_info": {
   "codemirror_mode": {
    "name": "ipython",
    "version": 3
   },
   "file_extension": ".py",
   "mimetype": "text/x-python",
   "name": "python",
   "nbconvert_exporter": "python",
   "pygments_lexer": "ipython3",
   "version": "3.5.2"
  }
 },
 "nbformat": 4,
 "nbformat_minor": 2
}
